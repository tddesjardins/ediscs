{
 "cells": [
  {
   "cell_type": "code",
   "execution_count": 1,
   "metadata": {},
   "outputs": [],
   "source": [
    "from ediscs.Util import phot_tools\n",
    "from ediscs.Util import error_analysis\n",
    "\n",
    "import ediscs\n",
    "import glob\n",
    "import numpy as np\n",
    "import os"
   ]
  },
  {
   "cell_type": "markdown",
   "metadata": {},
   "source": [
    "If the SEXTRACTOR_PATH and EDISCS_REPO environment variables are not set, we need to set them."
   ]
  },
  {
   "cell_type": "code",
   "execution_count": 2,
   "metadata": {},
   "outputs": [
    {
     "name": "stdout",
     "output_type": "stream",
     "text": [
      "SEXTRACTOR_PATH set to /user/desjard/sextractor-2.19.5/config\n",
      "EDISCS_REPO set to /user/desjard/programming/python/ediscs\n"
     ]
    }
   ],
   "source": [
    "required_keys = ['SEXTRACTOR_PATH', 'EDISCS_REPO']\n",
    "for rk in required_keys:\n",
    "    if rk not in os.environ.keys():\n",
    "        print('Missing variable {}'.format(rk))\n",
    "    else:\n",
    "        print('{} set to {}'.format(rk, os.environ[rk]))"
   ]
  },
  {
   "cell_type": "markdown",
   "metadata": {},
   "source": [
    "If these are missing, you can set them with the following cell:"
   ]
  },
  {
   "cell_type": "code",
   "execution_count": null,
   "metadata": {},
   "outputs": [],
   "source": [
    "# ONLY NEED TO RUN THIS IF VARIABLES ARE MISSING\n",
    "# COMMENT OUT LINES AS NEEDED AND UPDATE PATHS\n",
    "# AS NECESSARY\n",
    "\n",
    "os.environ['SEXTRACTOR_PATH'] = '/path/to/sextractor/config_files/'\n",
    "os.environ['EDISCS_REPO'] = os.path.dirname(ediscs.__file__)"
   ]
  },
  {
   "cell_type": "markdown",
   "metadata": {},
   "source": [
    "Next, we need to set up the Python dictionary of FITS file names. This will be used to construct the SExtractor photometry script."
   ]
  },
  {
   "cell_type": "code",
   "execution_count": 3,
   "metadata": {},
   "outputs": [
    {
     "name": "stdout",
     "output_type": "stream",
     "text": [
      "{'z': 'cl1037_z_smooth.fits', 'b': 'cl1037_b_smooth.fits', 'v': 'cl1037_v_smooth.fits', 'r': 'cl1037_r_smooth.fits', 'i': 'cl1037_i_smooth.fits'}\n"
     ]
    }
   ],
   "source": [
    "fits_files = glob.glob('cl1037_?_smooth.fits')\n",
    "img_dict = {}\n",
    "\n",
    "for f in fits_files:\n",
    "    keyname = f.split('_')[1]\n",
    "    img_dict[keyname] = f\n",
    "    \n",
    "print(img_dict)"
   ]
  },
  {
   "cell_type": "markdown",
   "metadata": {},
   "source": [
    "Create the SExtractor photometry script and run SExtractor. You need to specify the key in the img_dict dictionary that will be the source detection image for SExtractor's dual-image mode. In this example, we've made the keys simple \"b\", \"v\", \"r\", etc., but they are generally arbitrary."
   ]
  },
  {
   "cell_type": "code",
   "execution_count": 4,
   "metadata": {},
   "outputs": [
    {
     "name": "stdout",
     "output_type": "stream",
     "text": [
      "\n",
      "Our SExtractor script looks like this:\n",
      "\n",
      "sex -c ediscs.sex -BACKPHOTO_TYPE \"GLOBAL\" -CATALOG_NAME cl1037_z_smooth.cat -CHECKIMAGE_TYPE \"-BACKGROUND\" -CHECKIMAGE_NAME \"cl1037_z_smooth_bkgsub.fits\" cl1037_r_smooth.fits cl1037_z_smooth.fits\n",
      "sex -c ediscs.sex -BACKPHOTO_TYPE \"GLOBAL\" -CATALOG_NAME cl1037_b_smooth.cat -CHECKIMAGE_TYPE \"-BACKGROUND\" -CHECKIMAGE_NAME \"cl1037_b_smooth_bkgsub.fits\" cl1037_r_smooth.fits cl1037_b_smooth.fits\n",
      "sex -c ediscs.sex -BACKPHOTO_TYPE \"GLOBAL\" -CATALOG_NAME cl1037_v_smooth.cat -CHECKIMAGE_TYPE \"-BACKGROUND\" -CHECKIMAGE_NAME \"cl1037_v_smooth_bkgsub.fits\" cl1037_r_smooth.fits cl1037_v_smooth.fits\n",
      "sex -c ediscs.sex -BACKPHOTO_TYPE \"GLOBAL\" -CATALOG_NAME cl1037_r_smooth.cat -CHECKIMAGE_TYPE \"-BACKGROUND,SEGMENTATION\" -CHECKIMAGE_NAME \"cl1037_r_smooth_bkgsub.fits, cl1037_r_smooth_segmap.fits\" cl1037_r_smooth.fits cl1037_r_smooth.fits\n",
      "sex -c ediscs.sex -BACKPHOTO_TYPE \"GLOBAL\" -CATALOG_NAME cl1037_i_smooth.cat -CHECKIMAGE_TYPE \"-BACKGROUND\" -CHECKIMAGE_NAME \"cl1037_i_smooth_bkgsub.fits\" cl1037_r_smooth.fits cl1037_i_smooth.fits\n"
     ]
    }
   ],
   "source": [
    "phot_tools.copy_sexfiles()\n",
    "pscript = phot_tools.phot_script(img_dict, outfile='cl1037_pscript.sh', detection_img='r', clobber=True)\n",
    "print('\\nOur SExtractor script looks like this:\\n')\n",
    "print('\\n'.join(pscript))"
   ]
  },
  {
   "cell_type": "code",
   "execution_count": null,
   "metadata": {},
   "outputs": [],
   "source": [
    "!source 'cl1037_pscript.sh'"
   ]
  },
  {
   "cell_type": "markdown",
   "metadata": {},
   "source": [
    "Now that photometry is done, we can get uncertainties. We do this on an image-by-image basis, so we'll just show how to do them for the V-band in this example. Each time, it will generate two plots: (1) histograms of the empty aperture photometry with their Gaussian fits, and (2) the error as a function of aperture size described by Labbé et al. (2003).\n",
    "\n",
    "**IMPORTANT:** You must use the *background subtracted* image as the input for the empty aperture analysis. These have the same root name as the input FITS files with `_bkgsub.fits` appended to them. E.g., for an input of `cl1037_v_smooth.fits`, the background subtracted image will be `cl1037_v_smooth_bkgsub.fits`.\n",
    "\n",
    "**REMEMBER:** If you have a K-band image, you also have an exposure map. This can be given as input to the Labbe error analysis code using `expmap=\"my_expmap.fits\"` for example."
   ]
  },
  {
   "cell_type": "code",
   "execution_count": 5,
   "metadata": {},
   "outputs": [
    {
     "name": "stderr",
     "output_type": "stream",
     "text": [
      "WARNING: The following header keyword is invalid or follows an unrecognized non-standard convention:\n",
      "CO1_1   =-1.27665130280501E-05                                                   [astropy.io.fits.card]\n",
      "WARNING: The following header keyword is invalid or follows an unrecognized non-standard convention:\n",
      "CO1_2   =-6.61113665999245E-05                                                   [astropy.io.fits.card]\n",
      "WARNING: The following header keyword is invalid or follows an unrecognized non-standard convention:\n",
      "CO1_4   =-2.82633373452844E-13                                                   [astropy.io.fits.card]\n",
      "WARNING: The following header keyword is invalid or follows an unrecognized non-standard convention:\n",
      "CO1_6   =-2.31699965665792E-12                                                   [astropy.io.fits.card]\n",
      "WARNING: The following header keyword is invalid or follows an unrecognized non-standard convention:\n",
      "CO2_4   =-6.61065574569778E-12                                                   [astropy.io.fits.card]\n",
      "WARNING: The following header keyword is invalid or follows an unrecognized non-standard convention:\n",
      "CO2_5   =-1.80852241783022E-12                                                   [astropy.io.fits.card]\n",
      "WARNING: The following header keyword is invalid or follows an unrecognized non-standard convention:\n",
      "CO2_6   =-5.69827286263806E-13                                                   [astropy.io.fits.card]\n"
     ]
    },
    {
     "name": "stdout",
     "output_type": "stream",
     "text": [
      "Checking if fake apertures are (1) in low exposure areas [optional] or (2) too close to a real source.\n",
      "\tFound 1694 out of 3000 good apertures.\n",
      "Checking if fake apertures are too close to each other.\n",
      "\tFound 1686 out of 3000 good apertures. Using these results.\n",
      "Doing aperture photometry...\n",
      "\tWorking on r = 2.0 pixels (#1 out of 8)\n",
      "\tWorking on r = 2.58342 pixels (#2 out of 8)\n",
      "\tWorking on r = 3.33702 pixels (#3 out of 8)\n",
      "\tWorking on r = 4.31046 pixels (#4 out of 8)\n",
      "\tWorking on r = 5.56785 pixels (#5 out of 8)\n",
      "\tWorking on r = 7.19204 pixels (#6 out of 8)\n",
      "\tWorking on r = 9.29002 pixels (#7 out of 8)\n",
      "\tWorking on r = 12.0 pixels (#8 out of 8)\n",
      "Finished!\n",
      "Saved Gaussian fits to histograms --> cl1037_v_gaussian_hist.png\n",
      "Saved Labbe error function fit --> cl1037_v_errorfunc_fit.png\n"
     ]
    }
   ],
   "source": [
    "v_errors = error_analysis.Labbe(img_dict['v'].replace('.fits', '_bkgsub.fits'), img_dict['r'].replace('.fits', '_segmap.fits'), pixel_scale=0.25)\n",
    "v_errors.do_photometry(3000)\n",
    "error_fit = v_errors.fit_sigma_function(outroot='cl1037_v', label='CL1037 V')"
   ]
  },
  {
   "cell_type": "markdown",
   "metadata": {},
   "source": [
    "The warnings are *OKAY* (they're a result of Dennis Just's work) and don't affect what we're doing. Notice that the code printed out the number of good apertures that were actually used (we specified 3000 when we called `v_errors.do_photometry`, but only 1720 of the randomly generated positions were determined to be good). Running this will create our two PNG plots with file names dictated by the `outroot` optional keyword in the `Labbe()` class call. Be sure to check the plots that are produced to make sure that the fits to the data look reasonable. We've captured the output of the fit as the variable `error_fit`. Let's take a look now:"
   ]
  },
  {
   "cell_type": "code",
   "execution_count": 6,
   "metadata": {},
   "outputs": [
    {
     "name": "stdout",
     "output_type": "stream",
     "text": [
      "[0.6446755  4.10078078 0.37141054]\n"
     ]
    }
   ],
   "source": [
    "print(error_fit)"
   ]
  },
  {
   "cell_type": "markdown",
   "metadata": {},
   "source": [
    "These numbers are the coefficients of the error function from Labbé et al. (2003) equation 3. You can get the uncertainty for any arbitrary aperture size using the `error_analysis.labbe_error_function()` function. This takes as input these three coefficients and also the *circularized radius* of your aperture. This is an important distinction. The aperture size is given by:\n",
    "\n",
    "$N = \\sqrt{\\pi * A}$\n",
    "\n",
    "where $N$ is the circularized radius and $A$ is the area of your aperture. This means you can use the area of any arbitrary aperture, such as a Kron aperture, to get the circularized radius and therefore the uncertainty in that aperture. The area $A$, and thus the circularized radius $N$, should be in units of pixels$^2$ and pixels, respectively. Let's say we have a Kron aperture with area 67.235 pixels$^2$. Thus, we can get the circularized radius and uncertainty:"
   ]
  },
  {
   "cell_type": "code",
   "execution_count": 7,
   "metadata": {},
   "outputs": [
    {
     "name": "stdout",
     "output_type": "stream",
     "text": [
      "Circularized radius = 14.533581185107465\n",
      "Error in aperture = 88.99759076731334\n"
     ]
    }
   ],
   "source": [
    "kron_n = np.sqrt(np.pi * 67.235)\n",
    "error_kron = error_analysis.labbe_error_function(kron_n, error_fit[0], error_fit[1], error_fit[2])\n",
    "print('Circularized radius = {}'.format(kron_n))\n",
    "print('Error in aperture = {}'.format(error_kron))"
   ]
  },
  {
   "cell_type": "markdown",
   "metadata": {},
   "source": [
    "Finally, note that the error function is unique to each filter. You will need to do this for every filter you are interested in. Therefore, the above error terms only apply to the V-band image for CL1037."
   ]
  },
  {
   "cell_type": "code",
   "execution_count": null,
   "metadata": {},
   "outputs": [],
   "source": []
  }
 ],
 "metadata": {
  "kernelspec": {
   "display_name": "Python 3",
   "language": "python",
   "name": "python3"
  },
  "language_info": {
   "codemirror_mode": {
    "name": "ipython",
    "version": 3
   },
   "file_extension": ".py",
   "mimetype": "text/x-python",
   "name": "python",
   "nbconvert_exporter": "python",
   "pygments_lexer": "ipython3",
   "version": "3.5.5"
  }
 },
 "nbformat": 4,
 "nbformat_minor": 2
}
